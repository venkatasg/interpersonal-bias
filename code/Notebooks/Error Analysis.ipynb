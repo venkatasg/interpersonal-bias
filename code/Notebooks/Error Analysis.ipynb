{
 "cells": [
  {
   "cell_type": "code",
   "execution_count": 1,
   "id": "84278af8",
   "metadata": {},
   "outputs": [
    {
     "data": {
      "text/plain": [
       "RandomState(MT19937) at 0x7FB8E1891840"
      ]
     },
     "execution_count": 1,
     "metadata": {},
     "output_type": "execute_result"
    }
   ],
   "source": [
    "import pandas as pd\n",
    "import random\n",
    "import numpy as np\n",
    "from tqdm import tqdm\n",
    "import ipdb\n",
    "import re\n",
    "from collections import Counter\n",
    "from sklearn.metrics import f1_score, precision_score, recall_score\n",
    "\n",
    "import matplotlib.pyplot as plt\n",
    "# import mplcursors\n",
    "import seaborn as sns\n",
    "%matplotlib inline\n",
    "sns.set(style='darkgrid', context='notebook', rc={'figure.figsize':(14,10)}, font_scale=2)\n",
    "\n",
    "pd.set_option('display.max_rows', 100)\n",
    "pd.set_option('display.max_columns', 100)\n",
    "pd.set_option('display.width', None)\n",
    "pd.set_option('display.max_colwidth', None)\n",
    "pd.set_option('chained_assignment',None)\n",
    "\n",
    "# Set random seeds for reproducibility on a specific machine\n",
    "random.seed(1)\n",
    "np.random.seed(1)\n",
    "np.random.RandomState(1)"
   ]
  },
  {
   "cell_type": "code",
   "execution_count": null,
   "id": "96462228",
   "metadata": {},
   "outputs": [],
   "source": [
    "df = pd.read_csv('predictions.tsv', sep='\\t')\n",
    "df.shape"
   ]
  },
  {
   "cell_type": "code",
   "execution_count": null,
   "id": "f4372c0f",
   "metadata": {},
   "outputs": [],
   "source": [
    "df"
   ]
  },
  {
   "cell_type": "code",
   "execution_count": null,
   "id": "2fc58144",
   "metadata": {},
   "outputs": [],
   "source": [
    "df['error'] = df.apply(lambda x: 'right' if x['pred']==x['group'] else 'wrong', axis=1)\n",
    "df['tok_len'] = df['tweet_clean'].apply(lambda x: len(x))\n",
    "wrong = df[df['group']!=df['pred']]\n",
    "right = df[df['group']==df['pred']]\n",
    "wrong.shape, right.shape"
   ]
  },
  {
   "cell_type": "markdown",
   "id": "ca310b42",
   "metadata": {},
   "source": [
    "Are the wrong tweets more likely to be longer? Looks like no"
   ]
  },
  {
   "cell_type": "code",
   "execution_count": null,
   "id": "71be53d6",
   "metadata": {
    "scrolled": false
   },
   "outputs": [],
   "source": [
    "sns.displot(df, x='tok_len', hue='error', kind='kde', common_norm=False, height=10)"
   ]
  },
  {
   "cell_type": "markdown",
   "id": "05598715",
   "metadata": {},
   "source": [
    "Model performs well on joy and admiration, but not on disgust"
   ]
  },
  {
   "cell_type": "code",
   "execution_count": null,
   "id": "38fe3ec5",
   "metadata": {},
   "outputs": [],
   "source": [
    "df[(df['Disgust']==True) & (df['error']=='right')].shape, df[(df['Disgust']==True) & (df['error']=='wrong')].shape"
   ]
  },
  {
   "cell_type": "code",
   "execution_count": null,
   "id": "d2205ffb",
   "metadata": {},
   "outputs": [],
   "source": [
    "df[(df['Sadness']==True) & (df['error']=='right')].shape, df[(df['Sadness']==True) & (df['error']=='wrong')].shape"
   ]
  },
  {
   "cell_type": "code",
   "execution_count": null,
   "id": "76c4ec3c",
   "metadata": {},
   "outputs": [],
   "source": [
    "df[(df['Disgust']==True) & (df['error']=='wrong')]"
   ]
  },
  {
   "cell_type": "code",
   "execution_count": null,
   "id": "bf8926aa",
   "metadata": {
    "scrolled": false
   },
   "outputs": [],
   "source": [
    "df[(df['Sadness']==True) & (df['error']=='wrong')]"
   ]
  },
  {
   "cell_type": "code",
   "execution_count": null,
   "id": "09052b63",
   "metadata": {},
   "outputs": [],
   "source": [
    "df[(df['Joy']==True) & (df['error']=='wrong')]"
   ]
  },
  {
   "cell_type": "code",
   "execution_count": null,
   "id": "2ea2e231",
   "metadata": {},
   "outputs": [],
   "source": [
    "df[(df['Admiration']==True) & (df['error']=='wrong')]"
   ]
  },
  {
   "cell_type": "markdown",
   "id": "57abbc7a",
   "metadata": {},
   "source": [
    "## Getting the dataframe with all mention tweets and making it bigger"
   ]
  },
  {
   "cell_type": "code",
   "execution_count": 2,
   "id": "18e03559",
   "metadata": {},
   "outputs": [
    {
     "data": {
      "text/html": [
       "<div>\n",
       "<style scoped>\n",
       "    .dataframe tbody tr th:only-of-type {\n",
       "        vertical-align: middle;\n",
       "    }\n",
       "\n",
       "    .dataframe tbody tr th {\n",
       "        vertical-align: top;\n",
       "    }\n",
       "\n",
       "    .dataframe thead th {\n",
       "        text-align: right;\n",
       "    }\n",
       "</style>\n",
       "<table border=\"1\" class=\"dataframe\">\n",
       "  <thead>\n",
       "    <tr style=\"text-align: right;\">\n",
       "      <th></th>\n",
       "      <th>id</th>\n",
       "      <th>tweet</th>\n",
       "      <th>username</th>\n",
       "      <th>mentname</th>\n",
       "      <th>group</th>\n",
       "      <th>party</th>\n",
       "    </tr>\n",
       "  </thead>\n",
       "  <tbody>\n",
       "    <tr>\n",
       "      <th>0</th>\n",
       "      <td>238056105207554048</td>\n",
       "      <td>\"...to fight for their state like this.\" @Randy_Forbes #AR3 #Arkansas</td>\n",
       "      <td>rep_stevewomack</td>\n",
       "      <td>randy_forbes</td>\n",
       "      <td>1</td>\n",
       "      <td>R</td>\n",
       "    </tr>\n",
       "    <tr>\n",
       "      <th>1</th>\n",
       "      <td>227768354516131841</td>\n",
       "      <td>Hearing on #MEA is beginning now in House Judiciary Committee #AR3 #Arkansas @RepSpeier</td>\n",
       "      <td>rep_stevewomack</td>\n",
       "      <td>repspeier</td>\n",
       "      <td>-1</td>\n",
       "      <td>R</td>\n",
       "    </tr>\n",
       "    <tr>\n",
       "      <th>2</th>\n",
       "      <td>225031228871557120</td>\n",
       "      <td>Thanks 2 everyone who participated in tonight's special Tele-Town Hall w/ @RepTomPrice as we discussed the #healthcare bill. #AR3 #Arkansas</td>\n",
       "      <td>rep_stevewomack</td>\n",
       "      <td>reptomprice</td>\n",
       "      <td>1</td>\n",
       "      <td>R</td>\n",
       "    </tr>\n",
       "    <tr>\n",
       "      <th>3</th>\n",
       "      <td>224921430259810306</td>\n",
       "      <td>Tele-Town Hall 2Nite 7PM CT w/ guest @RepTomPrice  - Call-in # (877) 229-8493 &amp;amp; passcode 17688 #AR3 #Arkansas</td>\n",
       "      <td>rep_stevewomack</td>\n",
       "      <td>reptomprice</td>\n",
       "      <td>1</td>\n",
       "      <td>R</td>\n",
       "    </tr>\n",
       "    <tr>\n",
       "      <th>4</th>\n",
       "      <td>165124042255380481</td>\n",
       "      <td>I am honored to be appointed by @SpeakerBoehner to the US #Military Academy Board of Visitors   #AR03</td>\n",
       "      <td>rep_stevewomack</td>\n",
       "      <td>speakerboehner</td>\n",
       "      <td>1</td>\n",
       "      <td>R</td>\n",
       "    </tr>\n",
       "    <tr>\n",
       "      <th>...</th>\n",
       "      <td>...</td>\n",
       "      <td>...</td>\n",
       "      <td>...</td>\n",
       "      <td>...</td>\n",
       "      <td>...</td>\n",
       "      <td>...</td>\n",
       "    </tr>\n",
       "    <tr>\n",
       "      <th>73180</th>\n",
       "      <td>1387606571824336896</td>\n",
       "      <td>I know I'm not the only one who was moved by @SenatorTimScott's depiction of all the promise &amp;amp; opportunity here in America.   We both lived out our American Dream - and we want all the kids across this great nation to find theirs too.</td>\n",
       "      <td>repkevinhern</td>\n",
       "      <td>senatortimscott</td>\n",
       "      <td>1</td>\n",
       "      <td>R</td>\n",
       "    </tr>\n",
       "    <tr>\n",
       "      <th>73181</th>\n",
       "      <td>1383077783954460686</td>\n",
       "      <td>Glad to hear it! I’d love to work w/ you on @RepJasonSmith’s HR 1712 to repeal the estate tax (aka the death tax). It’s not fair &amp;amp; it’s not just.  The last thing a grieving son or daughter needs is the burden of heavy taxes on their parent’s assets - that have already been taxed!</td>\n",
       "      <td>repkevinhern</td>\n",
       "      <td>repjasonsmith</td>\n",
       "      <td>1</td>\n",
       "      <td>R</td>\n",
       "    </tr>\n",
       "    <tr>\n",
       "      <th>73182</th>\n",
       "      <td>1359936343116288002</td>\n",
       "      <td>Today, Democrats rejected two amendments from @RepArrington &amp;amp; myself, choosing to spend your taxpayer dollars on subsidized healthcare for people in our country illegally while voting against relief for the American energy workers who are unemployed because of Biden’s policies.</td>\n",
       "      <td>repkevinhern</td>\n",
       "      <td>reparrington</td>\n",
       "      <td>1</td>\n",
       "      <td>R</td>\n",
       "    </tr>\n",
       "    <tr>\n",
       "      <th>73183</th>\n",
       "      <td>1345829663076179968</td>\n",
       "      <td>Pelosi’s lack of leadership cost millions of Americans their jobs this year. We’ll be recovering from the damage she caused for years. We need a common-sense leader in the House, which is why I voted for @GOPLeader just now.</td>\n",
       "      <td>repkevinhern</td>\n",
       "      <td>gopleader</td>\n",
       "      <td>1</td>\n",
       "      <td>R</td>\n",
       "    </tr>\n",
       "    <tr>\n",
       "      <th>73184</th>\n",
       "      <td>1393592908541054977</td>\n",
       "      <td>My dear @RepBeatty, praying for you to be healthy and strong during this time of pain and sorrow.   Love,  Maxine and Sidney</td>\n",
       "      <td>repmaxinewaters</td>\n",
       "      <td>repbeatty</td>\n",
       "      <td>1</td>\n",
       "      <td>D</td>\n",
       "    </tr>\n",
       "  </tbody>\n",
       "</table>\n",
       "<p>73181 rows × 6 columns</p>\n",
       "</div>"
      ],
      "text/plain": [
       "                        id  \\\n",
       "0       238056105207554048   \n",
       "1       227768354516131841   \n",
       "2       225031228871557120   \n",
       "3       224921430259810306   \n",
       "4       165124042255380481   \n",
       "...                    ...   \n",
       "73180  1387606571824336896   \n",
       "73181  1383077783954460686   \n",
       "73182  1359936343116288002   \n",
       "73183  1345829663076179968   \n",
       "73184  1393592908541054977   \n",
       "\n",
       "                                                                                                                                                                                                                                                                                              tweet  \\\n",
       "0                                                                                                                                                                                                                             \"...to fight for their state like this.\" @Randy_Forbes #AR3 #Arkansas   \n",
       "1                                                                                                                                                                                                         Hearing on #MEA is beginning now in House Judiciary Committee #AR3 #Arkansas @RepSpeier     \n",
       "2                                                                                                                                                       Thanks 2 everyone who participated in tonight's special Tele-Town Hall w/ @RepTomPrice as we discussed the #healthcare bill. #AR3 #Arkansas   \n",
       "3                                                                                                                                                                                 Tele-Town Hall 2Nite 7PM CT w/ guest @RepTomPrice  - Call-in # (877) 229-8493 &amp; passcode 17688 #AR3 #Arkansas   \n",
       "4                                                                                                                                                                                             I am honored to be appointed by @SpeakerBoehner to the US #Military Academy Board of Visitors   #AR03   \n",
       "...                                                                                                                                                                                                                                                                                             ...   \n",
       "73180                                                I know I'm not the only one who was moved by @SenatorTimScott's depiction of all the promise &amp; opportunity here in America.   We both lived out our American Dream - and we want all the kids across this great nation to find theirs too.   \n",
       "73181  Glad to hear it! I’d love to work w/ you on @RepJasonSmith’s HR 1712 to repeal the estate tax (aka the death tax). It’s not fair &amp; it’s not just.  The last thing a grieving son or daughter needs is the burden of heavy taxes on their parent’s assets - that have already been taxed!   \n",
       "73182    Today, Democrats rejected two amendments from @RepArrington &amp; myself, choosing to spend your taxpayer dollars on subsidized healthcare for people in our country illegally while voting against relief for the American energy workers who are unemployed because of Biden’s policies.   \n",
       "73183                                                              Pelosi’s lack of leadership cost millions of Americans their jobs this year. We’ll be recovering from the damage she caused for years. We need a common-sense leader in the House, which is why I voted for @GOPLeader just now.   \n",
       "73184                                                                                                                                                                  My dear @RepBeatty, praying for you to be healthy and strong during this time of pain and sorrow.   Love,  Maxine and Sidney   \n",
       "\n",
       "              username         mentname  group party  \n",
       "0      rep_stevewomack     randy_forbes      1     R  \n",
       "1      rep_stevewomack        repspeier     -1     R  \n",
       "2      rep_stevewomack      reptomprice      1     R  \n",
       "3      rep_stevewomack      reptomprice      1     R  \n",
       "4      rep_stevewomack   speakerboehner      1     R  \n",
       "...                ...              ...    ...   ...  \n",
       "73180     repkevinhern  senatortimscott      1     R  \n",
       "73181     repkevinhern    repjasonsmith      1     R  \n",
       "73182     repkevinhern     reparrington      1     R  \n",
       "73183     repkevinhern        gopleader      1     R  \n",
       "73184  repmaxinewaters        repbeatty      1     D  \n",
       "\n",
       "[73181 rows x 6 columns]"
      ]
     },
     "execution_count": 2,
     "metadata": {},
     "output_type": "execute_result"
    }
   ],
   "source": [
    "mdf = pd.read_csv('../../../../lib-data/congressional-tweets-main/all-mention-tweets.tsv', sep='\\t', engine='python').loc[:, ['id', 'tweet', 'username', 'mentname', 'group', 'party']]\n",
    "mdf.dropna(inplace=True)\n",
    "mdf['group'] = mdf['group'].astype(int)\n",
    "mdf"
   ]
  },
  {
   "cell_type": "code",
   "execution_count": 3,
   "id": "43bb0da8",
   "metadata": {},
   "outputs": [
    {
     "data": {
      "text/plain": [
       "Counter({1: 51105, -1: 22076})"
      ]
     },
     "execution_count": 3,
     "metadata": {},
     "output_type": "execute_result"
    }
   ],
   "source": [
    "Counter(mdf['group'])"
   ]
  },
  {
   "cell_type": "code",
   "execution_count": 4,
   "id": "c6bbb9f0",
   "metadata": {},
   "outputs": [],
   "source": [
    "two_df = pd.concat([mdf[mdf['group']==1].sample(3000), mdf[mdf['group']==-1].sample(3000)]).reset_index(drop=True)\n",
    "\n",
    "three_df = pd.concat([mdf[mdf['group']==1].sample(4500), mdf[mdf['group']==-1].sample(4500)]).reset_index(drop=True)"
   ]
  },
  {
   "cell_type": "code",
   "execution_count": 5,
   "id": "acb86e67",
   "metadata": {},
   "outputs": [],
   "source": [
    "def train_valid_test():\n",
    "    t = random.random()\n",
    "    if t < 0.8:\n",
    "        return 'train'\n",
    "    else:\n",
    "        h = random.random()\n",
    "        if h < 0.5:\n",
    "            return 'dev'\n",
    "        else:\n",
    "            return 'test'\n",
    "\n",
    "two_df['Split'] = two_df.apply(lambda x: train_valid_test(), axis=1)\n",
    "three_df['Split'] = three_df.apply(lambda x: train_valid_test(), axis=1)\n",
    "\n",
    "two_df.to_csv('two_data.tsv', sep='\\t', index=False)\n",
    "three_df.to_csv('three_data.tsv', sep='\\t', index=False)"
   ]
  },
  {
   "cell_type": "code",
   "execution_count": null,
   "id": "eb207ea6",
   "metadata": {},
   "outputs": [],
   "source": []
  }
 ],
 "metadata": {
  "kernelspec": {
   "display_name": "Python 3 (ipykernel)",
   "language": "python",
   "name": "python3"
  },
  "language_info": {
   "codemirror_mode": {
    "name": "ipython",
    "version": 3
   },
   "file_extension": ".py",
   "mimetype": "text/x-python",
   "name": "python",
   "nbconvert_exporter": "python",
   "pygments_lexer": "ipython3",
   "version": "3.10.0"
  }
 },
 "nbformat": 4,
 "nbformat_minor": 5
}
