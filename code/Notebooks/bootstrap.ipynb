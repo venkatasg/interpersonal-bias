{
 "cells": [
  {
   "cell_type": "code",
   "execution_count": 4,
   "id": "c6d66bff",
   "metadata": {},
   "outputs": [],
   "source": [
    "import pandas as pd\n",
    "import random\n",
    "import numpy as np\n",
    "from tqdm import tqdm\n",
    "import ipdb\n",
    "import re\n",
    "\n",
    "import matplotlib.pyplot as plt\n",
    "# import mplcursors\n",
    "import seaborn as sns\n",
    "%matplotlib inline\n",
    "sns.set(style='darkgrid', context='notebook', rc={'figure.figsize':(14,10)}, font_scale=2)\n",
    "\n",
    "pd.set_option('display.max_rows', 100)\n",
    "pd.set_option('display.max_columns', 100)\n",
    "pd.set_option('display.width', None)\n",
    "pd.set_option('display.max_colwidth', None)\n",
    "pd.set_option('chained_assignment',None)\n",
    "\n",
    "# Set random seeds for reproducibility on a specific machine\n",
    "random.seed(1)\n",
    "np.random.seed(1)\n",
    "np.random.RandomState(1)\n",
    "\n",
    "from numpy.random import random_sample"
   ]
  },
  {
   "cell_type": "markdown",
   "id": "1de18b93",
   "metadata": {},
   "source": [
    "bootstrap testing the results for bertweet versus multitask model"
   ]
  },
  {
   "cell_type": "code",
   "execution_count": 6,
   "id": "6e619aec",
   "metadata": {},
   "outputs": [
    {
     "name": "stdout",
     "output_type": "stream",
     "text": [
      "0.03861099999999995\n"
     ]
    }
   ],
   "source": [
    "num_of_samples = 1e6\n",
    "i = 0\n",
    "signif = 0\n",
    "\n",
    "while i<num_of_samples:\n",
    "    f1_bertweet = 70.8 + 6.6*random_sample(1)\n",
    "    f1_multi = 76.5 + 1.6*random_sample(1)\n",
    "    \n",
    "    if f1_multi > f1_bertweet:\n",
    "        signif += 1\n",
    "    i+=1\n",
    "    \n",
    "print(1-(signif/num_of_samples))"
   ]
  },
  {
   "cell_type": "markdown",
   "id": "52d15e03",
   "metadata": {},
   "source": [
    "bootstrap testing disgust emotion performance on bertweet versus multitask model"
   ]
  },
  {
   "cell_type": "code",
   "execution_count": 7,
   "id": "b9031481",
   "metadata": {},
   "outputs": [
    {
     "name": "stdout",
     "output_type": "stream",
     "text": [
      "0.0013900000000000023\n"
     ]
    }
   ],
   "source": [
    "num_of_samples = 1e6\n",
    "i = 0\n",
    "signif = 0\n",
    "\n",
    "while i<num_of_samples:\n",
    "    f1_multi = (74.5-7.1) + 14.2*random_sample(1)\n",
    "    f1_bertweet = (47.1-21.6) + 43.2*random_sample(1)\n",
    "    \n",
    "    if f1_multi > f1_bertweet:\n",
    "        signif += 1\n",
    "    i+=1\n",
    "    \n",
    "print(1-(signif/num_of_samples))"
   ]
  },
  {
   "cell_type": "code",
   "execution_count": null,
   "id": "b60ebd97",
   "metadata": {},
   "outputs": [],
   "source": []
  }
 ],
 "metadata": {
  "kernelspec": {
   "display_name": "Python 3 (ipykernel)",
   "language": "python",
   "name": "python3"
  },
  "language_info": {
   "codemirror_mode": {
    "name": "ipython",
    "version": 3
   },
   "file_extension": ".py",
   "mimetype": "text/x-python",
   "name": "python",
   "nbconvert_exporter": "python",
   "pygments_lexer": "ipython3",
   "version": "3.10.0"
  }
 },
 "nbformat": 4,
 "nbformat_minor": 5
}
